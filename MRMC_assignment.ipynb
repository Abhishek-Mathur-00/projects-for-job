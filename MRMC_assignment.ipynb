{
 "cells": [
  {
   "cell_type": "markdown",
   "id": "d296a879",
   "metadata": {},
   "source": [
    "# Statistical analysis of a time series dataset of US macroeconomic variables\n",
    "\n",
    "This project is a part of the assessment for a model validation job at UBS Mumbai. Here I have done a statistical analysis of a linear regression model, supplied by UBS, on a time series dataset of US macroeconomic variables.\n",
    "\n",
    "### Table of contents\n",
    "* [Our data](#data)\n",
    "* [Task 1: Replication of results](#task1)\n",
    "* [Task 2: Outlier detections](#task2)\n",
    "* [Task 3: Autocorrelation of residuals](#task3)\n",
    "* [Task 4: Bootstrapping of standard errors](#task4)\n",
    "* [Summary](#summary)"
   ]
  },
  {
   "cell_type": "code",
   "execution_count": 1,
   "id": "68b33e5c",
   "metadata": {},
   "outputs": [],
   "source": [
    "#Importing necessary python libraries\n",
    "import pandas as pd\n",
    "import numpy as np\n",
    "import statsmodels.api as sm"
   ]
  },
  {
   "cell_type": "markdown",
   "id": "431e7d01",
   "metadata": {},
   "source": [
    "\n",
    "## Our data: <a class=\"anchor\" id=\"data\"></a>\n",
    "Quarterly time series of US macroeconomic variables from 1950 until 2000."
   ]
  },
  {
   "cell_type": "code",
   "execution_count": 2,
   "id": "bee15360",
   "metadata": {},
   "outputs": [
    {
     "data": {
      "text/html": [
       "<div>\n",
       "<style scoped>\n",
       "    .dataframe tbody tr th:only-of-type {\n",
       "        vertical-align: middle;\n",
       "    }\n",
       "\n",
       "    .dataframe tbody tr th {\n",
       "        vertical-align: top;\n",
       "    }\n",
       "\n",
       "    .dataframe thead th {\n",
       "        text-align: right;\n",
       "    }\n",
       "</style>\n",
       "<table border=\"1\" class=\"dataframe\">\n",
       "  <thead>\n",
       "    <tr style=\"text-align: right;\">\n",
       "      <th></th>\n",
       "      <th>date</th>\n",
       "      <th>gdp</th>\n",
       "      <th>consumption</th>\n",
       "      <th>invest</th>\n",
       "      <th>government</th>\n",
       "      <th>dpi</th>\n",
       "      <th>cpi</th>\n",
       "      <th>m1</th>\n",
       "      <th>tbill</th>\n",
       "      <th>unemp</th>\n",
       "      <th>population</th>\n",
       "      <th>inflation</th>\n",
       "      <th>interest</th>\n",
       "    </tr>\n",
       "  </thead>\n",
       "  <tbody>\n",
       "    <tr>\n",
       "      <th>0</th>\n",
       "      <td>1950 Q1</td>\n",
       "      <td>1610.5</td>\n",
       "      <td>1058.9</td>\n",
       "      <td>198.1</td>\n",
       "      <td>361.0</td>\n",
       "      <td>1186.1</td>\n",
       "      <td>70.6</td>\n",
       "      <td>110.20</td>\n",
       "      <td>1.12</td>\n",
       "      <td>6.4</td>\n",
       "      <td>149.461</td>\n",
       "      <td>NaN</td>\n",
       "      <td>NaN</td>\n",
       "    </tr>\n",
       "    <tr>\n",
       "      <th>1</th>\n",
       "      <td>1950 Q2</td>\n",
       "      <td>1658.8</td>\n",
       "      <td>1075.9</td>\n",
       "      <td>220.4</td>\n",
       "      <td>366.4</td>\n",
       "      <td>1178.1</td>\n",
       "      <td>71.4</td>\n",
       "      <td>111.75</td>\n",
       "      <td>1.17</td>\n",
       "      <td>5.6</td>\n",
       "      <td>150.260</td>\n",
       "      <td>4.5071</td>\n",
       "      <td>-3.3404</td>\n",
       "    </tr>\n",
       "    <tr>\n",
       "      <th>2</th>\n",
       "      <td>1950 Q3</td>\n",
       "      <td>1723.0</td>\n",
       "      <td>1131.0</td>\n",
       "      <td>239.7</td>\n",
       "      <td>359.6</td>\n",
       "      <td>1196.5</td>\n",
       "      <td>73.2</td>\n",
       "      <td>112.95</td>\n",
       "      <td>1.23</td>\n",
       "      <td>4.6</td>\n",
       "      <td>151.064</td>\n",
       "      <td>9.9590</td>\n",
       "      <td>-8.7290</td>\n",
       "    </tr>\n",
       "    <tr>\n",
       "      <th>3</th>\n",
       "      <td>1950 Q4</td>\n",
       "      <td>1753.9</td>\n",
       "      <td>1097.6</td>\n",
       "      <td>271.8</td>\n",
       "      <td>382.5</td>\n",
       "      <td>1210.0</td>\n",
       "      <td>74.9</td>\n",
       "      <td>113.93</td>\n",
       "      <td>1.35</td>\n",
       "      <td>4.2</td>\n",
       "      <td>151.871</td>\n",
       "      <td>9.1834</td>\n",
       "      <td>-7.8301</td>\n",
       "    </tr>\n",
       "    <tr>\n",
       "      <th>4</th>\n",
       "      <td>1951 Q1</td>\n",
       "      <td>1773.5</td>\n",
       "      <td>1122.8</td>\n",
       "      <td>242.9</td>\n",
       "      <td>421.9</td>\n",
       "      <td>1207.9</td>\n",
       "      <td>77.3</td>\n",
       "      <td>115.08</td>\n",
       "      <td>1.40</td>\n",
       "      <td>3.5</td>\n",
       "      <td>152.393</td>\n",
       "      <td>12.6160</td>\n",
       "      <td>-11.2160</td>\n",
       "    </tr>\n",
       "  </tbody>\n",
       "</table>\n",
       "</div>"
      ],
      "text/plain": [
       "      date     gdp  consumption  invest  government     dpi   cpi      m1  \\\n",
       "0  1950 Q1  1610.5       1058.9   198.1       361.0  1186.1  70.6  110.20   \n",
       "1  1950 Q2  1658.8       1075.9   220.4       366.4  1178.1  71.4  111.75   \n",
       "2  1950 Q3  1723.0       1131.0   239.7       359.6  1196.5  73.2  112.95   \n",
       "3  1950 Q4  1753.9       1097.6   271.8       382.5  1210.0  74.9  113.93   \n",
       "4  1951 Q1  1773.5       1122.8   242.9       421.9  1207.9  77.3  115.08   \n",
       "\n",
       "   tbill  unemp  population  inflation  interest  \n",
       "0   1.12    6.4     149.461        NaN       NaN  \n",
       "1   1.17    5.6     150.260     4.5071   -3.3404  \n",
       "2   1.23    4.6     151.064     9.9590   -8.7290  \n",
       "3   1.35    4.2     151.871     9.1834   -7.8301  \n",
       "4   1.40    3.5     152.393    12.6160  -11.2160  "
      ]
     },
     "execution_count": 2,
     "metadata": {},
     "output_type": "execute_result"
    }
   ],
   "source": [
    "#Importing the data file to pandas dataframe\n",
    "df_data = pd.read_csv(\"~/Documents/assignment/data.csv\",sep='|')\n",
    "df_data.head()"
   ]
  },
  {
   "cell_type": "code",
   "execution_count": 3,
   "id": "e70aa873",
   "metadata": {},
   "outputs": [
    {
     "data": {
      "text/html": [
       "<div>\n",
       "<style scoped>\n",
       "    .dataframe tbody tr th:only-of-type {\n",
       "        vertical-align: middle;\n",
       "    }\n",
       "\n",
       "    .dataframe tbody tr th {\n",
       "        vertical-align: top;\n",
       "    }\n",
       "\n",
       "    .dataframe thead th {\n",
       "        text-align: right;\n",
       "    }\n",
       "</style>\n",
       "<table border=\"1\" class=\"dataframe\">\n",
       "  <thead>\n",
       "    <tr style=\"text-align: right;\">\n",
       "      <th></th>\n",
       "      <th>date</th>\n",
       "      <th>gdp</th>\n",
       "      <th>consumption</th>\n",
       "      <th>invest</th>\n",
       "      <th>government</th>\n",
       "      <th>dpi</th>\n",
       "      <th>cpi</th>\n",
       "      <th>m1</th>\n",
       "      <th>tbill</th>\n",
       "      <th>unemp</th>\n",
       "      <th>population</th>\n",
       "      <th>inflation</th>\n",
       "      <th>interest</th>\n",
       "    </tr>\n",
       "  </thead>\n",
       "  <tbody>\n",
       "    <tr>\n",
       "      <th>0</th>\n",
       "      <td>1950 Q1</td>\n",
       "      <td>1610.5</td>\n",
       "      <td>1058.9</td>\n",
       "      <td>198.1</td>\n",
       "      <td>361.0</td>\n",
       "      <td>1186.1</td>\n",
       "      <td>70.6</td>\n",
       "      <td>110.2</td>\n",
       "      <td>1.12</td>\n",
       "      <td>6.4</td>\n",
       "      <td>149.461</td>\n",
       "      <td>NaN</td>\n",
       "      <td>NaN</td>\n",
       "    </tr>\n",
       "  </tbody>\n",
       "</table>\n",
       "</div>"
      ],
      "text/plain": [
       "      date     gdp  consumption  invest  government     dpi   cpi     m1  \\\n",
       "0  1950 Q1  1610.5       1058.9   198.1       361.0  1186.1  70.6  110.2   \n",
       "\n",
       "   tbill  unemp  population  inflation  interest  \n",
       "0   1.12    6.4     149.461        NaN       NaN  "
      ]
     },
     "execution_count": 3,
     "metadata": {},
     "output_type": "execute_result"
    }
   ],
   "source": [
    "#Checking for the null values in the dataset\n",
    "df_data[df_data.isnull().any(axis=1)]"
   ]
  },
  {
   "cell_type": "markdown",
   "id": "2a20b694",
   "metadata": {},
   "source": [
    "We find that only the first row (date = 1950 Q1) contains the NaN in the <b>inflation</b> and the <b>interest</b> columns. For now this is not a problem since we are not immediately concerned with these columns."
   ]
  },
  {
   "cell_type": "markdown",
   "id": "e4bd519f",
   "metadata": {},
   "source": [
    "## Task 1: Replication of results <a class=\"anchor\" id=\"task1\"></a>"
   ]
  },
  {
   "cell_type": "markdown",
   "id": "b9b19870",
   "metadata": {},
   "source": [
    "#### The linear regression model:\n",
    "\\begin{equation}\n",
    "D(\\text{consumption})_t = \\alpha + \\beta_1 D(\\text{dpi})_t + \\beta_2 D(\\text{unemp})_t + \\epsilon_t\n",
    "\\end{equation}\n",
    "\n",
    "where $D()$ denotes the first difference and $\\epsilon_t$ are the residuals.\n",
    "\n",
    "We now construct a dataset with only the columns (consumption, dpi, unemp) relevant to the model in question."
   ]
  },
  {
   "cell_type": "code",
   "execution_count": 3,
   "id": "21ec2dcc",
   "metadata": {},
   "outputs": [
    {
     "data": {
      "text/html": [
       "<div>\n",
       "<style scoped>\n",
       "    .dataframe tbody tr th:only-of-type {\n",
       "        vertical-align: middle;\n",
       "    }\n",
       "\n",
       "    .dataframe tbody tr th {\n",
       "        vertical-align: top;\n",
       "    }\n",
       "\n",
       "    .dataframe thead th {\n",
       "        text-align: right;\n",
       "    }\n",
       "</style>\n",
       "<table border=\"1\" class=\"dataframe\">\n",
       "  <thead>\n",
       "    <tr style=\"text-align: right;\">\n",
       "      <th></th>\n",
       "      <th>consumption</th>\n",
       "      <th>dpi</th>\n",
       "      <th>unemp</th>\n",
       "    </tr>\n",
       "  </thead>\n",
       "  <tbody>\n",
       "    <tr>\n",
       "      <th>0</th>\n",
       "      <td>1058.9</td>\n",
       "      <td>1186.1</td>\n",
       "      <td>6.4</td>\n",
       "    </tr>\n",
       "    <tr>\n",
       "      <th>1</th>\n",
       "      <td>1075.9</td>\n",
       "      <td>1178.1</td>\n",
       "      <td>5.6</td>\n",
       "    </tr>\n",
       "    <tr>\n",
       "      <th>2</th>\n",
       "      <td>1131.0</td>\n",
       "      <td>1196.5</td>\n",
       "      <td>4.6</td>\n",
       "    </tr>\n",
       "    <tr>\n",
       "      <th>3</th>\n",
       "      <td>1097.6</td>\n",
       "      <td>1210.0</td>\n",
       "      <td>4.2</td>\n",
       "    </tr>\n",
       "    <tr>\n",
       "      <th>4</th>\n",
       "      <td>1122.8</td>\n",
       "      <td>1207.9</td>\n",
       "      <td>3.5</td>\n",
       "    </tr>\n",
       "  </tbody>\n",
       "</table>\n",
       "</div>"
      ],
      "text/plain": [
       "   consumption     dpi  unemp\n",
       "0       1058.9  1186.1    6.4\n",
       "1       1075.9  1178.1    5.6\n",
       "2       1131.0  1196.5    4.6\n",
       "3       1097.6  1210.0    4.2\n",
       "4       1122.8  1207.9    3.5"
      ]
     },
     "execution_count": 3,
     "metadata": {},
     "output_type": "execute_result"
    }
   ],
   "source": [
    "df_reduced = df_data[['consumption','dpi','unemp']]\n",
    "df_reduced.head()"
   ]
  },
  {
   "cell_type": "markdown",
   "id": "9a084d43",
   "metadata": {},
   "source": [
    "#### Constructing the dataset with first differences of the reduced dataset df_reduced"
   ]
  },
  {
   "cell_type": "code",
   "execution_count": 4,
   "id": "0aee052f",
   "metadata": {},
   "outputs": [
    {
     "data": {
      "text/html": [
       "<div>\n",
       "<style scoped>\n",
       "    .dataframe tbody tr th:only-of-type {\n",
       "        vertical-align: middle;\n",
       "    }\n",
       "\n",
       "    .dataframe tbody tr th {\n",
       "        vertical-align: top;\n",
       "    }\n",
       "\n",
       "    .dataframe thead th {\n",
       "        text-align: right;\n",
       "    }\n",
       "</style>\n",
       "<table border=\"1\" class=\"dataframe\">\n",
       "  <thead>\n",
       "    <tr style=\"text-align: right;\">\n",
       "      <th></th>\n",
       "      <th>D(consumption)</th>\n",
       "      <th>D(dpi)</th>\n",
       "      <th>D(unemp)</th>\n",
       "    </tr>\n",
       "  </thead>\n",
       "  <tbody>\n",
       "    <tr>\n",
       "      <th>1</th>\n",
       "      <td>17.0</td>\n",
       "      <td>-8.0</td>\n",
       "      <td>-0.8</td>\n",
       "    </tr>\n",
       "    <tr>\n",
       "      <th>2</th>\n",
       "      <td>55.1</td>\n",
       "      <td>18.4</td>\n",
       "      <td>-1.0</td>\n",
       "    </tr>\n",
       "    <tr>\n",
       "      <th>3</th>\n",
       "      <td>-33.4</td>\n",
       "      <td>13.5</td>\n",
       "      <td>-0.4</td>\n",
       "    </tr>\n",
       "    <tr>\n",
       "      <th>4</th>\n",
       "      <td>25.2</td>\n",
       "      <td>-2.1</td>\n",
       "      <td>-0.7</td>\n",
       "    </tr>\n",
       "    <tr>\n",
       "      <th>5</th>\n",
       "      <td>-31.4</td>\n",
       "      <td>17.9</td>\n",
       "      <td>-0.4</td>\n",
       "    </tr>\n",
       "  </tbody>\n",
       "</table>\n",
       "</div>"
      ],
      "text/plain": [
       "   D(consumption)  D(dpi)  D(unemp)\n",
       "1            17.0    -8.0      -0.8\n",
       "2            55.1    18.4      -1.0\n",
       "3           -33.4    13.5      -0.4\n",
       "4            25.2    -2.1      -0.7\n",
       "5           -31.4    17.9      -0.4"
      ]
     },
     "execution_count": 4,
     "metadata": {},
     "output_type": "execute_result"
    }
   ],
   "source": [
    "#Creating the dataset with first difference\n",
    "df_reduced_diff = pd.Series.diff(df_reduced)\n",
    "df_reduced_diff.columns = ['D(consumption)','D(dpi)','D(unemp)']\n",
    "\n",
    "#Removing the first row since it will definitely be null\n",
    "df_reduced_diff.dropna(inplace=True) #In this dataset only the first column has NA values.\n",
    "df_reduced_diff.head()"
   ]
  },
  {
   "cell_type": "markdown",
   "id": "08a64a41",
   "metadata": {},
   "source": [
    "### We now construct a linear regression model and fit with the data to get the model parameters and errors"
   ]
  },
  {
   "cell_type": "code",
   "execution_count": 5,
   "id": "168159bc",
   "metadata": {},
   "outputs": [
    {
     "data": {
      "text/html": [
       "<table class=\"simpletable\">\n",
       "<caption>OLS Regression Results</caption>\n",
       "<tr>\n",
       "  <th>Dep. Variable:</th>            <td>y</td>        <th>  R-squared:         </th> <td>   0.335</td>\n",
       "</tr>\n",
       "<tr>\n",
       "  <th>Model:</th>                   <td>OLS</td>       <th>  Adj. R-squared:    </th> <td>   0.328</td>\n",
       "</tr>\n",
       "<tr>\n",
       "  <th>Method:</th>             <td>Least Squares</td>  <th>  F-statistic:       </th> <td>   50.31</td>\n",
       "</tr>\n",
       "<tr>\n",
       "  <th>Date:</th>             <td>Tue, 25 Oct 2022</td> <th>  Prob (F-statistic):</th> <td>2.00e-18</td>\n",
       "</tr>\n",
       "<tr>\n",
       "  <th>Time:</th>                 <td>14:26:09</td>     <th>  Log-Likelihood:    </th> <td> -898.12</td>\n",
       "</tr>\n",
       "<tr>\n",
       "  <th>No. Observations:</th>      <td>   203</td>      <th>  AIC:               </th> <td>   1802.</td>\n",
       "</tr>\n",
       "<tr>\n",
       "  <th>Df Residuals:</th>          <td>   200</td>      <th>  BIC:               </th> <td>   1812.</td>\n",
       "</tr>\n",
       "<tr>\n",
       "  <th>Df Model:</th>              <td>     2</td>      <th>                     </th>     <td> </td>   \n",
       "</tr>\n",
       "<tr>\n",
       "  <th>Covariance Type:</th>      <td>nonrobust</td>    <th>                     </th>     <td> </td>   \n",
       "</tr>\n",
       "</table>\n",
       "<table class=\"simpletable\">\n",
       "<tr>\n",
       "    <td></td>       <th>coef</th>     <th>std err</th>      <th>t</th>      <th>P>|t|</th>  <th>[0.025</th>    <th>0.975]</th>  \n",
       "</tr>\n",
       "<tr>\n",
       "  <th>const</th> <td>   16.2848</td> <td>    1.911</td> <td>    8.522</td> <td> 0.000</td> <td>   12.517</td> <td>   20.053</td>\n",
       "</tr>\n",
       "<tr>\n",
       "  <th>x1</th>    <td>    0.3557</td> <td>    0.048</td> <td>    7.444</td> <td> 0.000</td> <td>    0.261</td> <td>    0.450</td>\n",
       "</tr>\n",
       "<tr>\n",
       "  <th>x2</th>    <td>  -16.0149</td> <td>    3.792</td> <td>   -4.223</td> <td> 0.000</td> <td>  -23.493</td> <td>   -8.537</td>\n",
       "</tr>\n",
       "</table>\n",
       "<table class=\"simpletable\">\n",
       "<tr>\n",
       "  <th>Omnibus:</th>       <td>12.022</td> <th>  Durbin-Watson:     </th> <td>   1.767</td>\n",
       "</tr>\n",
       "<tr>\n",
       "  <th>Prob(Omnibus):</th> <td> 0.002</td> <th>  Jarque-Bera (JB):  </th> <td>  14.257</td>\n",
       "</tr>\n",
       "<tr>\n",
       "  <th>Skew:</th>          <td> 0.459</td> <th>  Prob(JB):          </th> <td>0.000802</td>\n",
       "</tr>\n",
       "<tr>\n",
       "  <th>Kurtosis:</th>      <td> 3.919</td> <th>  Cond. No.          </th> <td>    110.</td>\n",
       "</tr>\n",
       "</table><br/><br/>Notes:<br/>[1] Standard Errors assume that the covariance matrix of the errors is correctly specified."
      ],
      "text/plain": [
       "<class 'statsmodels.iolib.summary.Summary'>\n",
       "\"\"\"\n",
       "                            OLS Regression Results                            \n",
       "==============================================================================\n",
       "Dep. Variable:                      y   R-squared:                       0.335\n",
       "Model:                            OLS   Adj. R-squared:                  0.328\n",
       "Method:                 Least Squares   F-statistic:                     50.31\n",
       "Date:                Tue, 25 Oct 2022   Prob (F-statistic):           2.00e-18\n",
       "Time:                        14:26:09   Log-Likelihood:                -898.12\n",
       "No. Observations:                 203   AIC:                             1802.\n",
       "Df Residuals:                     200   BIC:                             1812.\n",
       "Df Model:                           2                                         \n",
       "Covariance Type:            nonrobust                                         \n",
       "==============================================================================\n",
       "                 coef    std err          t      P>|t|      [0.025      0.975]\n",
       "------------------------------------------------------------------------------\n",
       "const         16.2848      1.911      8.522      0.000      12.517      20.053\n",
       "x1             0.3557      0.048      7.444      0.000       0.261       0.450\n",
       "x2           -16.0149      3.792     -4.223      0.000     -23.493      -8.537\n",
       "==============================================================================\n",
       "Omnibus:                       12.022   Durbin-Watson:                   1.767\n",
       "Prob(Omnibus):                  0.002   Jarque-Bera (JB):               14.257\n",
       "Skew:                           0.459   Prob(JB):                     0.000802\n",
       "Kurtosis:                       3.919   Cond. No.                         110.\n",
       "==============================================================================\n",
       "\n",
       "Notes:\n",
       "[1] Standard Errors assume that the covariance matrix of the errors is correctly specified.\n",
       "\"\"\""
      ]
     },
     "execution_count": 5,
     "metadata": {},
     "output_type": "execute_result"
    }
   ],
   "source": [
    "# Defining independent and dependent variables as X and y respectively\n",
    "n = len(df_reduced_diff)\n",
    "X = df_reduced_diff[['D(dpi)','D(unemp)']]\n",
    "y = df_reduced_diff['D(consumption)']\n",
    "\n",
    "# We create a table of independent variables with first column being \"1\",\n",
    "# whose coefficient will give the intercept.\n",
    "X_with_const = np.empty([n,3])\n",
    "X_with_const[:, 0] = 1\n",
    "X_with_const[:, 1:] = X.values\n",
    "\n",
    "# Creating the regression model using statsmodel.api\n",
    "# and fitting with the data X_with_const and y\n",
    "reg_model = sm.OLS(y.values, X_with_const)\n",
    "reg_result = reg_model.fit()\n",
    "reg_result.summary()"
   ]
  },
  {
   "cell_type": "markdown",
   "id": "5a2e0c4c",
   "metadata": {},
   "source": [
    "The p-values for the t-statics ($P>|t|$ column in the OLS Regression Results) are <b>0</b>, upto three places of decimal, for all the parameters $\\alpha$, $\\beta_1$ and $\\beta_2$. This implies that the relationship between the variables of the regression model is <b>statistically significant</b>."
   ]
  },
  {
   "cell_type": "markdown",
   "id": "ce8cf7de",
   "metadata": {},
   "source": [
    "## Task 2: Outlier detections <a class=\"anchor\" id=\"task2\"></a>"
   ]
  },
  {
   "cell_type": "markdown",
   "id": "4c825a0e",
   "metadata": {},
   "source": [
    "We start with constructing the time series of residuals ($\\epsilon_t$)."
   ]
  },
  {
   "cell_type": "code",
   "execution_count": 10,
   "id": "5e3e511f",
   "metadata": {},
   "outputs": [],
   "source": [
    "# Coefficients taken from the OLS Regression Results\n",
    "alpha = 16.2848\n",
    "beta1 = 0.3557\n",
    "beta2 = -16.0149\n",
    "\n",
    "# Computing residuals\n",
    "residuals = (df_reduced_diff['D(consumption)']-alpha-beta1*df_reduced_diff['D(dpi)']\n",
    "             -beta2*df_reduced_diff['D(unemp)'])"
   ]
  },
  {
   "cell_type": "markdown",
   "id": "86d20d72",
   "metadata": {},
   "source": [
    "Now we find quariles $Q_{1/4}$ and $Q_{3/4}$, the interquartile range IQR, the range\n",
    "\n",
    "\\begin{equation}\n",
    "\\left[Q_{1/4}(x)-1.5\\times\\text{IQR},Q_{3/4}(x)+1.5\\times\\text{IQR}\\right]\n",
    "\\end{equation}\n",
    "\n",
    "and finally the number of outliers."
   ]
  },
  {
   "cell_type": "code",
   "execution_count": 11,
   "id": "6428466d",
   "metadata": {},
   "outputs": [
    {
     "name": "stdout",
     "output_type": "stream",
     "text": [
      "number of outliers = 12\n"
     ]
    }
   ],
   "source": [
    "# Determining quartiles and IQR of the sorted residual array\n",
    "Q1 = np.quantile(residuals,1/4)\n",
    "Q3 = np.quantile(residuals,3/4)\n",
    "IQR = Q3-Q1\n",
    "\n",
    "# Range\n",
    "range_min = Q1-1.5*IQR\n",
    "range_max = Q3+1.5*IQR\n",
    "\n",
    "# Outliers\n",
    "outliers = [elem for elem in residuals if (elem < range_min or elem > range_max)]\n",
    "number_of_outliers = len(outliers)\n",
    "print(\"number of outliers =\",number_of_outliers)"
   ]
  },
  {
   "cell_type": "markdown",
   "id": "ad734121",
   "metadata": {},
   "source": [
    "In a sample size of 203 there are 12 outliers ($5.9\\%$) which is significant. The presence of outliers implies that there is a possibility of a better model. We can therefore try looking for the dependence of $D$(consumption) on other variables in the dataset. We can see if by including them we can reduce the number of outliers. One can also consider the possibility of non-linear dependence of $D$(consumption) on $D$(dpi) or $D$(unemp).\n",
    "\n",
    "###### Trying to explain the above point:\n",
    "Suppose that there is another variable $D$(x) which determines $D$(consumption), i.e.,\n",
    "\n",
    "\\begin{equation}\n",
    "D(\\text{consumption})_t = \\alpha + \\beta_1 D(\\text{dpi})_t + \\beta_2 D(\\text{unemp})_t + \\beta_3 D(\\text{x}) + \\epsilon_t^{\\text{new}}\n",
    "\\end{equation}\n",
    "\n",
    "where $\\epsilon_t = \\epsilon_t^{\\text{new}} + \\beta_3 D(\\text{x})$. If $|D(\\text{x})|$ is of large for a data point, then it can make $|\\epsilon_t|$ large and make it an outlier. (This is true only if $|D(\\text{x})|$ is small for residuals which are not outliers.)\n",
    "\n",
    "Note that there is a simplifying assumption in the above example that other coefficients remain unaffected by the introduction of the variable $|D(\\text{x})|$, which may not be true."
   ]
  },
  {
   "cell_type": "markdown",
   "id": "c8109f24",
   "metadata": {},
   "source": [
    "## Task 3: Autocorrelation of residuals <a class=\"anchor\" id=\"task3\"></a>\n",
    "\n",
    "We compute the Durbin-Watson (DW) statistic of the residuals defined as\n",
    "\\begin{equation}\n",
    "DW = \\frac{\\sum_{t=2}^n\\left(\\epsilon_t-\\epsilon_{t-1}\\right)^2}{\\sum_{t=1}^n\\epsilon_t^2}\n",
    "\\end{equation}"
   ]
  },
  {
   "cell_type": "code",
   "execution_count": 12,
   "id": "957b2b4c",
   "metadata": {},
   "outputs": [
    {
     "name": "stdout",
     "output_type": "stream",
     "text": [
      "Durbin-Watson = 1.767157842189361\n"
     ]
    }
   ],
   "source": [
    "# Constructing the dataset of the first difference of the residuals.\n",
    "residuals_diff = pd.Series.diff(residuals)\n",
    "residuals_diff.dropna(inplace=True) #Removing NaN which is only there in the first row.\n",
    "\n",
    "dw_num = np.dot(residuals_diff,residuals_diff) #Numerator of the DW\n",
    "dw_den = np.dot(residuals,residuals) #Denominator of the DW\n",
    "dw = dw_num/dw_den\n",
    "print(\"Durbin-Watson =\",dw)"
   ]
  },
  {
   "cell_type": "markdown",
   "id": "be433a3d",
   "metadata": {},
   "source": [
    "Note that the DW statistics is calculated by the statsmodel.api.OLS and it agrees with the result we got above (see OLS Regression Results).\n",
    "\n",
    "$DW=0$ implies that all residues are equal, i.e., they are strongly positively autocorrelated. If they are not autocorrelated, i.e., $\\sum_{t}\\epsilon_t\\epsilon_{t-1}=0$, we get $DW\\approx2$. $DW>2$ implies negative autocorrelation.\n",
    "\n",
    "A strong autocorrelation implies that residuals closer in time are predictable (similar for positive and opposite in sign for negative). They are not random and therefore need to be modeled. A strong autocorrelation therefore suggests a scope for improvement in regression model.\n",
    "\n",
    "We have $DW=1.767$ which is close to $2$ and therefore our residuals appear to be sufficiently random.\n",
    "\n",
    "We can further compute the $p$-value ($P>|DW-2|$) and check if it is greater than $0.05$ to confirm the above claim."
   ]
  },
  {
   "cell_type": "markdown",
   "id": "25101490",
   "metadata": {},
   "source": [
    "## Task 4: Bootstrapping of standard errors <a class=\"anchor\" id=\"task4\"></a>\n",
    "\n",
    "In this task we generate 10000 samples of size $n$, which is the size of the original dataset, using random sampling with replacement."
   ]
  },
  {
   "cell_type": "code",
   "execution_count": 13,
   "id": "922f8e97",
   "metadata": {},
   "outputs": [
    {
     "name": "stdout",
     "output_type": "stream",
     "text": [
      "bootstrapped alpha = 16.234066713916764\n",
      "bootstrapped beta1 = 0.3571133619694947\n",
      "bootstrapped beta2 = -16.024204576780605\n",
      "bootstrapped standard error in alpha = 1.9078486685876852\n",
      "bootstrapped standard error in beta1 = 0.04792992006196084\n",
      "bootstrapped standard error in beta2 = 3.815217254638791\n"
     ]
    }
   ],
   "source": [
    "bootst_param = 0\n",
    "bootst_stderr = 0\n",
    "sample_number = 10000\n",
    "k=0\n",
    "while k<sample_number:\n",
    "    #Random sampling indices from 0 to (n-1), n = len(df_reduced_diff)\n",
    "    sample_index = np.random.choice(n,n,replace=True)\n",
    "    #Creating sample_X_with_const and sample_y using X_with_const and y defined in Task 1\n",
    "    sample_X_with_const = X_with_const[sample_index]\n",
    "    sample_y = y.iloc[sample_index]\n",
    "    #Creating the regression model using statsmodel.api and fitting with the data X_with_const and y\n",
    "    sample_reg_model = sm.OLS(sample_y.values, sample_X_with_const)\n",
    "    sample_reg_result = sample_reg_model.fit()\n",
    "    sample_param = sample_reg_result.params\n",
    "    sample_stderr = sample_reg_result.bse\n",
    "    bootst_param = bootst_param + sample_param\n",
    "    bootst_stderr = bootst_stderr + sample_stderr\n",
    "    k=k+1\n",
    "    \n",
    "bootst_param = bootst_param/sample_number\n",
    "bootst_stderr = bootst_stderr/sample_number\n",
    "\n",
    "print(\"bootstrapped alpha =\",bootst_param[0])\n",
    "print(\"bootstrapped beta1 =\",bootst_param[1])\n",
    "print(\"bootstrapped beta2 =\",bootst_param[2])\n",
    "\n",
    "print(\"bootstrapped standard error in alpha =\",bootst_stderr[0])\n",
    "print(\"bootstrapped standard error in beta1 =\",bootst_stderr[1])\n",
    "print(\"bootstrapped standard error in beta2 =\",bootst_stderr[2])"
   ]
  },
  {
   "cell_type": "markdown",
   "id": "5affc396",
   "metadata": {},
   "source": [
    "While bootstrapping we generate 10000 random samples from the original data and average over the standart error of the parameters obtained for individual samples. This process is expected to reduce the effect of outliers on the result. In our case we see that the standard errors obtained by bootstrapping is almost same as the default standard errors (see OLS Regression Results of Task 1), which implies that the standard error of the model parameters calculated by the statsmodel.api.OLS in Task 1 is not significantly affected by the outliers"
   ]
  },
  {
   "cell_type": "markdown",
   "id": "6639032c",
   "metadata": {},
   "source": [
    "## Summary <a class=\"anchor\" id=\"summary\"></a>\n",
    "\n",
    "In this project we tested a linear regression model for the quarterly time series of US macroeconomic variables, relating the first difference in <b>consumptions</b> to that in <b>real disposable personal income (dpi)</b> and in <b>unemployment rate (unemp)</b>. We find the coefficients and intercept as follows\n",
    "\n",
    "Coefficient of $D$(dpi) = $0.3557$, standard error = $0.048$\n",
    "\n",
    "Coefficient of $D$(unemp) = $-16.0149$, standard error = $3.792$\n",
    "\n",
    "Intercept = $16.2848$, standard error = $1.911$\n",
    "\n",
    "The model suggests that our dataset contains 12 outliers in a sample size of 103, which indicates towards a possibility of improvement in the model. However the bootstrapped parameters and standard errors turn out to be almost equal to the default parameters and standard errors which suggests the outliers have no significant effect on the model.\n",
    "\n",
    "We also checked for autocorrelation of residuals and found that the Durbin-Watson statistic is $1.767$ which is close to two and hence implies that the residuals are not autocorrelated and there is no need to model the residuals. I think we may however need to find the $p$-value for the DW statistic in order to confirm the claim."
   ]
  }
 ],
 "metadata": {
  "kernelspec": {
   "display_name": "Python 3 (ipykernel)",
   "language": "python",
   "name": "python3"
  },
  "language_info": {
   "codemirror_mode": {
    "name": "ipython",
    "version": 3
   },
   "file_extension": ".py",
   "mimetype": "text/x-python",
   "name": "python",
   "nbconvert_exporter": "python",
   "pygments_lexer": "ipython3",
   "version": "3.9.13"
  }
 },
 "nbformat": 4,
 "nbformat_minor": 5
}
